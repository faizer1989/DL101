{
 "metadata": {
  "language_info": {
   "codemirror_mode": {
    "name": "ipython",
    "version": 3
   },
   "file_extension": ".py",
   "mimetype": "text/x-python",
   "name": "python",
   "nbconvert_exporter": "python",
   "pygments_lexer": "ipython3",
   "version": "3.8.5"
  },
  "orig_nbformat": 2,
  "kernelspec": {
   "name": "python3",
   "display_name": "Python 3.8.5 64-bit ('base': conda)",
   "metadata": {
    "interpreter": {
     "hash": "f54b266a549ecb03d7270e8300efd4d5308442744b8e77ba48ae6ca952686fd1"
    }
   }
  }
 },
 "nbformat": 4,
 "nbformat_minor": 2,
 "cells": [
  {
   "source": [
    "# Welcome to DL 101 Bootcamp \n",
    "\n",
    "!!! Content Development\n",
    "\n",
    "In the warm-up week of this Bootcamp, you will focus on learning how to navigate in Google Colab (the online version of Jupyter Notebook that easily trains neural network models on GPU). You will learn how to connect Google Drive to Colab, install all fast.ai dependencies. Along with that, you will be introduced to a high-level fast.ai library that allows us just in few lines of code to train supervised models for Image Classification, Natural Language, and Tabular (structured data) problems. \n",
    "\n",
    "There many programming enviroments available for building your models. In this Bootcamp you will be using Colab \n",
    "\n",
    "\n",
    "!!! Content Development\n"
   ],
   "cell_type": "markdown",
   "metadata": {}
  },
  {
   "source": [
    "## What is Colaboratory?\n",
    "Colaboratory, or \"Colab\" for short, allows you to write and execute Python in your browser, with\n",
    "\n",
    "* Zero configuration required\n",
    "* Free access to GPUs\n",
    "* Easy sharing\n",
    "\n",
    "Whether you're a student, a data scientist or an AI researcher, Colab can make your work easier. Watch Introduction to Colab to learn more, or just get started below!"
   ],
   "cell_type": "markdown",
   "metadata": {}
  },
  {
   "cell_type": "code",
   "execution_count": null,
   "metadata": {},
   "outputs": [],
   "source": []
  }
 ]
}