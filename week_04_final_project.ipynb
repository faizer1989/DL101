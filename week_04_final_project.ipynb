{
 "metadata": {
  "language_info": {
   "codemirror_mode": {
    "name": "ipython",
    "version": 3
   },
   "file_extension": ".py",
   "mimetype": "text/x-python",
   "name": "python",
   "nbconvert_exporter": "python",
   "pygments_lexer": "ipython3",
   "version": 3
  },
  "orig_nbformat": 2
 },
 "nbformat": 4,
 "nbformat_minor": 2,
 "cells": [
  {
   "source": [
    "# Welcome to Week 4 of DL101 Bootcamp \n",
    "\n",
    "# \"Final Project + MNIST 2.0\"\n",
    "\n",
    "!!! Content Development\n",
    "\n",
    "The assignments for Week 4 are adopted from DL101 Cohort#4 Bootcamp, Week 6P:Deliverables:\n",
    "https://docs.google.com/document/d/17HDpF8NqyqB4rsGl0-6bnDDDiEYgW-ZP97rqsgD68-s/edit\n",
    "\n",
    "!!! Content Development"
   ],
   "cell_type": "markdown",
   "metadata": {}
  },
  {
   "cell_type": "code",
   "execution_count": null,
   "metadata": {},
   "outputs": [],
   "source": []
  }
 ]
}